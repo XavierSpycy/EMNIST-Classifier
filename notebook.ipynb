{
 "cells": [
  {
   "cell_type": "markdown",
   "metadata": {},
   "source": [
    "# EMNIST-ByClass Handwritten Character Recognizer"
   ]
  },
  {
   "cell_type": "markdown",
   "metadata": {},
   "source": [
    "## Setup"
   ]
  },
  {
   "cell_type": "code",
   "execution_count": null,
   "metadata": {},
   "outputs": [],
   "source": [
    "!git clone https://github.com/XavierSpycy/EMNIST-Classifier.git\n",
    "%cd EMNIST-Classifier"
   ]
  },
  {
   "cell_type": "code",
   "execution_count": null,
   "metadata": {},
   "outputs": [],
   "source": [
    "import torch\n",
    "from torch.utils.data import DataLoader\n",
    "from charclf.dataset import load_dataset\n",
    "from charclf.models import VGGNet, AlexNet, SpinalNet, ResNet\n",
    "from charclf.tools.eval import multi_evaluate, evaluate, confusion_matrix_viz\n",
    "from charclf.tools.viz import predict\n",
    "from charclf.tools.train import train_\n",
    "\n",
    "device = torch.device('cuda' if torch.cuda.is_available() else 'cpu')"
   ]
  },
  {
   "cell_type": "markdown",
   "metadata": {},
   "source": [
    "## Performance on Our Datasets"
   ]
  },
  {
   "cell_type": "code",
   "execution_count": null,
   "metadata": {},
   "outputs": [],
   "source": [
    "emnist_train, emnist_test = load_dataset('eval')\n",
    "train_loader = DataLoader(emnist_train, batch_size=100, shuffle=False, num_workers=2)\n",
    "test_loader = DataLoader(emnist_test, batch_size=100, shuffle=False, num_workers=2)"
   ]
  },
  {
   "cell_type": "code",
   "execution_count": null,
   "metadata": {},
   "outputs": [],
   "source": [
    "alexnet = AlexNet()\n",
    "alexnet.to(device).load_state_dict(torch.load(\"model_hub/fine_tuned//alexnet_tuned.pth\", map_location=device))\n",
    "vggnet = VGGNet()\n",
    "vggnet.to(device).load_state_dict(torch.load(\"model_hub/fine_tuned/vggnet_tuned.pth\", map_location=device))\n",
    "spinalnet = SpinalNet()\n",
    "spinalnet.to(device).load_state_dict(torch.load(\"model_hub/fine_tuned/spinalnet_tuned.pth\", map_location=device))\n",
    "resnet = ResNet()\n",
    "resnet.to(device).load_state_dict(torch.load(\"model_hub/fine_tuned/resnet_tuned.pth\", map_location=device))"
   ]
  },
  {
   "cell_type": "code",
   "execution_count": null,
   "metadata": {},
   "outputs": [],
   "source": [
    "models = [alexnet, vggnet, spinalnet, resnet]\n",
    "multi_evaluate(models, train_loader, device)"
   ]
  },
  {
   "cell_type": "code",
   "execution_count": null,
   "metadata": {},
   "outputs": [],
   "source": [
    "multi_evaluate(models, test_loader, device)"
   ]
  },
  {
   "cell_type": "code",
   "execution_count": null,
   "metadata": {},
   "outputs": [],
   "source": [
    "predict(vggnet, test_loader, device)"
   ]
  },
  {
   "cell_type": "markdown",
   "metadata": {},
   "source": [
    "## Performance on the Entire Datasets"
   ]
  },
  {
   "cell_type": "code",
   "execution_count": null,
   "metadata": {},
   "outputs": [],
   "source": [
    "from torch.utils.data import Dataset, DataLoader\n",
    "from torchvision import transforms, datasets\n",
    "\n",
    "transform = transforms.Compose([transforms.Resize(28),\n",
    "                                transforms.ToTensor(),\n",
    "                                transforms.Normalize((0.1736,), (0.3248,)),\n",
    "                                ])\n",
    "\n",
    "emnist_train_complete = datasets.EMNIST(root='./EMNIST', split='byclass', train=True, download=True, transform=transform)\n",
    "emnist_test_complete = datasets.EMNIST(root='./EMNIST', split='byclass', train=False, download=True, transform=transform)"
   ]
  },
  {
   "cell_type": "code",
   "execution_count": null,
   "metadata": {},
   "outputs": [],
   "source": [
    "complete_train = DataLoader(emnist_train_complete, batch_size=100, shuffle=False, num_workers=2)\n",
    "complete_test = DataLoader(emnist_test_complete, batch_size=100, shuffle=False, num_workers=2)\n",
    "acc_train, precision_train, recall_train, f1_train, cm_train = evaluate(vggnet, complete_train)\n",
    "acc_test, precision_test, recall_test, f1_test, cm_test = evaluate(vggnet, complete_test)\n",
    "print(f\"Accuracy on the training set: {acc_train*100:.2f}%.\")\n",
    "print(f\"Precision on the training set: {precision_train*100:.2f}%.\")\n",
    "print(f\"Recall on the training set: {recall_train*100:.2f}%.\")\n",
    "print(f\"F1 Score on the training set: {f1_train*100:.2f}%.\")\n",
    "print(f\"Accuracy on the test set: {acc_test*100:.2f}%.\")\n",
    "print(f\"Precision on the test set: {precision_test*100:.2f}%.\")\n",
    "print(f\"Recall on the test set: {recall_test*100:.2f}%.\")\n",
    "print(f\"F1 Score on the test set: {f1_test*100:.2f}%.\")\n",
    "confusion_matrix_viz(cm_train)\n",
    "confusion_matrix_viz(cm_test)"
   ]
  },
  {
   "cell_type": "markdown",
   "metadata": {},
   "source": [
    "## Performance on the Downstream Task"
   ]
  },
  {
   "cell_type": "code",
   "execution_count": null,
   "metadata": {},
   "outputs": [],
   "source": [
    "import torch.nn as nn\n",
    "import torch.optim as optim\n",
    "\n",
    "transform = transforms.Compose([transforms.ToTensor(),\n",
    "                                transforms.Normalize((0.1325, ), (0.3039, ))])\n",
    "mnist_train = datasets.MNIST(root='./MMNIST', train=True, download=True, transform=transform)\n",
    "mnist_test = datasets.MNIST(root='./MNIST', train=False, download=True, transform=transform)\n",
    "\n",
    "vggnet = VGGNet().to(device)\n",
    "vggnet.load_state_dict(torch.load(\"model_hub/fine_tuned/vggnet_tuned.pth\", map_location=device))\n",
    "vggnet.classifier[8] = torch.nn.Linear(512, 10)\n",
    "vggnet.to(device)\n",
    "for name, param in vggnet.named_parameters():\n",
    "    if 'classifier' not in name:\n",
    "        param.requires_grad = False\n",
    "train_loader = DataLoader(mnist_train, batch_size=32, shuffle=True)\n",
    "test_loader = DataLoader(mnist_test, batch_size=100, shuffle=False)\n",
    "optimizer = optim.SGD(vggnet.parameters(), lr=0.1)\n",
    "criterion = nn.CrossEntropyLoss()\n",
    "epochs = 5\n",
    "train_(vggnet, train_loader, optimizer, criterion, epochs)"
   ]
  },
  {
   "cell_type": "code",
   "execution_count": null,
   "metadata": {},
   "outputs": [],
   "source": [
    "acc_train, precision_train, recall_train, f1_train, cm_train = evaluate(vggnet, train_loader)\n",
    "acc_test, precision_test, recall_test, f1_test, cm_test = evaluate(vggnet, test_loader)\n",
    "print(f\"Accuracy on the training set: {acc_train*100:.2f}%.\")\n",
    "print(f\"Precision on the training set: {precision_train*100:.2f}%.\")\n",
    "print(f\"Recall on the training set: {recall_train*100:.2f}%.\")\n",
    "print(f\"F1 Score on the training set: {f1_train*100:.2f}%.\")\n",
    "print(f\"Accuracy on the test set: {acc_test*100:.2f}%.\")\n",
    "print(f\"Precision on the test set: {precision_test*100:.2f}%.\")\n",
    "print(f\"Recall on the test set: {recall_test*100:.2f}%.\")\n",
    "print(f\"F1 Score on the test set: {f1_test*100:.2f}%.\")"
   ]
  }
 ],
 "metadata": {
  "kernelspec": {
   "display_name": "5328",
   "language": "python",
   "name": "python3"
  },
  "language_info": {
   "codemirror_mode": {
    "name": "ipython",
    "version": 3
   },
   "file_extension": ".py",
   "mimetype": "text/x-python",
   "name": "python",
   "nbconvert_exporter": "python",
   "pygments_lexer": "ipython3",
   "version": "3.8.18"
  }
 },
 "nbformat": 4,
 "nbformat_minor": 2
}
